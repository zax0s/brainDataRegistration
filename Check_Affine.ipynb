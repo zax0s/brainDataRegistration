{
 "cells": [
  {
   "cell_type": "code",
   "execution_count": 1,
   "metadata": {},
   "outputs": [],
   "source": [
    "import nibabel as nib\n",
    "import numpy as np\n",
    "import sys\n",
    "np.set_printoptions(threshold=sys.maxsize)\n",
    "import glob\n",
    "from tqdm import tqdm"
   ]
  },
  {
   "cell_type": "code",
   "execution_count": 2,
   "metadata": {},
   "outputs": [],
   "source": [
    "# Get a list of all nifti images in the data folder\n",
    "brains=glob.glob('brains/**/*.nii')"
   ]
  },
  {
   "cell_type": "code",
   "execution_count": 3,
   "metadata": {},
   "outputs": [],
   "source": [
    "# loop over all images\n",
    "for brain in brains:\n",
    "    img = nib.load(brain)\n",
    "    # get affine of the image\n",
    "    affine = img.affine\n",
    "    # ignore values smaller than 1E-6, by replacing them with 0\n",
    "    affine[abs(affine)<1E-6]=0\n",
    "    # Check if the affine uses a combination of the 3 axes\n",
    "    # by countint the non-zero element in the 3x3 part of the affine matrix\n",
    "    if np.count_nonzero(affine[:3,:3])!=3:\n",
    "        print(\"Strange combination of axes in affine for image_file: \"+brain)\n",
    "    "
   ]
  },
  {
   "cell_type": "code",
   "execution_count": null,
   "metadata": {},
   "outputs": [],
   "source": []
  }
 ],
 "metadata": {
  "kernelspec": {
   "display_name": "Python 3",
   "language": "python",
   "name": "python3"
  },
  "language_info": {
   "codemirror_mode": {
    "name": "ipython",
    "version": 3
   },
   "file_extension": ".py",
   "mimetype": "text/x-python",
   "name": "python",
   "nbconvert_exporter": "python",
   "pygments_lexer": "ipython3",
   "version": "3.7.6"
  }
 },
 "nbformat": 4,
 "nbformat_minor": 4
}

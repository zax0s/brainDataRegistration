{
 "cells": [
  {
   "cell_type": "code",
   "execution_count": 12,
   "metadata": {},
   "outputs": [],
   "source": [
    "import nibabel as nib\n",
    "import numpy as np\n",
    "import sys\n",
    "np.set_printoptions(threshold=sys.maxsize)\n",
    "import glob\n",
    "from tqdm import tqdm"
   ]
  },
  {
   "cell_type": "code",
   "execution_count": 5,
   "metadata": {},
   "outputs": [],
   "source": [
    "# Get a list of all nifti images in the data folder\n",
    "brains=glob.glob('brains/**/*.nii')"
   ]
  },
  {
   "cell_type": "code",
   "execution_count": 49,
   "metadata": {},
   "outputs": [
    {
     "name": "stdout",
     "output_type": "stream",
     "text": [
      "Strange combination of axes in affine for image_file: brains\\AD\\002_S_0938_FreeSurfer_Cross-Sectional_Processing_brainmask_2007-04-12_08_16_54.0_S29620_mri_brainmask.nii\n",
      "Strange combination of axes in affine for image_file: brains\\AD\\002_S_1018_FreeSurfer_Cross-Sectional_Processing_brainmask_2006-11-29_10_00_05.0_S23128_mri_brainmask.nii\n",
      "Strange combination of axes in affine for image_file: brains\\AD\\002_S_1018_FreeSurfer_Cross-Sectional_Processing_brainmask_2008-12-12_06_35_53.0_S60832_mri_brainmask.nii\n",
      "Strange combination of axes in affine for image_file: brains\\AD\\003_S_1257_FreeSurfer_Cross-Sectional_Processing_brainmask_2008-05-15_14_10_40.0_S50263_mri_brainmask.nii\n",
      "Strange combination of axes in affine for image_file: brains\\AD\\005_S_1341_FreeSurfer_Cross-Sectional_Processing_brainmask_2007-03-07_12_44_49.0_S27673_mri_brainmask.nii\n",
      "Strange combination of axes in affine for image_file: brains\\AD\\005_S_1341_FreeSurfer_Cross-Sectional_Processing_brainmask_2007-10-02_13_27_12.0_S40875_mri_brainmask.nii\n",
      "Strange combination of axes in affine for image_file: brains\\AD\\006_S_0547_FreeSurfer_Cross-Sectional_Processing_brainmask_2008-09-11_14_01_39.0_S56401_mri_brainmask.nii\n",
      "Strange combination of axes in affine for image_file: brains\\AD\\007_S_0316_FreeSurfer_Cross-Sectional_Processing_brainmask_2008-05-20_13_40_38.0_S50458_mri_brainmask.nii\n",
      "Strange combination of axes in affine for image_file: brains\\AD\\009_S_1354_FreeSurfer_Cross-Sectional_Processing_brainmask_2007-09-26_13_55_08.0_S50562_mri_brainmask.nii\n",
      "Strange combination of axes in affine for image_file: brains\\AD\\010_S_0786_FreeSurfer_Cross-Sectional_Processing_brainmask_2006-09-27_11_10_34.0_S19638_mri_brainmask.nii\n",
      "Strange combination of axes in affine for image_file: brains\\AD\\010_S_0786_FreeSurfer_Cross-Sectional_Processing_brainmask_2007-05-04_14_22_57.0_S31805_mri_brainmask.nii\n",
      "Strange combination of axes in affine for image_file: brains\\AD\\010_S_0786_FreeSurfer_Cross-Sectional_Processing_brainmask_2007-10-10_10_36_59.0_S41161_mri_brainmask.nii\n",
      "Strange combination of axes in affine for image_file: brains\\AD\\010_S_0829_FreeSurfer_Cross-Sectional_Processing_brainmask_2007-02-08_14_25_09.0_S26117_mri_brainmask.nii\n",
      "Strange combination of axes in affine for image_file: brains\\AD\\010_S_0829_FreeSurfer_Cross-Sectional_Processing_brainmask_2007-09-05_15_41_42.0_S38934_mri_brainmask.nii\n",
      "Strange combination of axes in affine for image_file: brains\\AD\\010_S_0829_FreeSurfer_Cross-Sectional_Processing_brainmask_2009-02-11_16_17_20.0_S62987_mri_brainmask.nii\n",
      "Strange combination of axes in affine for image_file: brains\\AD\\011_S_0003_FreeSurfer_Cross-Sectional_Processing_brainmask_2007-09-12_12_48_32.0_S39296_mri_brainmask.nii\n",
      "Strange combination of axes in affine for image_file: brains\\AD\\011_S_0010_FreeSurfer_Cross-Sectional_Processing_brainmask_2006-05-09_12_35_01.0_S14171_mri_brainmask.nii\n",
      "Strange combination of axes in affine for image_file: brains\\AD\\011_S_0010_FreeSurfer_Cross-Sectional_Processing_brainmask_2006-11-09_12_01_54.0_S45936_mri_brainmask.nii\n",
      "Strange combination of axes in affine for image_file: brains\\AD\\011_S_0010_FreeSurfer_Cross-Sectional_Processing_brainmask_2007-11-07_12_23_57.0_S45942_mri_brainmask.nii\n",
      "Strange combination of axes in affine for image_file: brains\\AD\\011_S_0053_FreeSurfer_Cross-Sectional_Processing_brainmask_2006-05-30_12_30_10.0_S15005_mri_brainmask.nii\n",
      "Strange combination of axes in affine for image_file: brains\\AD\\011_S_0053_FreeSurfer_Cross-Sectional_Processing_brainmask_2006-11-28_12_41_18.0_S23166_mri_brainmask.nii\n",
      "Strange combination of axes in affine for image_file: brains\\AD\\011_S_0053_FreeSurfer_Cross-Sectional_Processing_brainmask_2007-11-29_12_39_02.0_S43271_mri_brainmask.nii\n",
      "Strange combination of axes in affine for image_file: brains\\AD\\011_S_0183_FreeSurfer_Cross-Sectional_Processing_brainmask_2006-03-03_12_21_01.0_S12000_mri_brainmask.nii\n",
      "Strange combination of axes in affine for image_file: brains\\AD\\011_S_0183_FreeSurfer_Cross-Sectional_Processing_brainmask_2006-10-04_12_25_51.0_S19928_mri_brainmask.nii\n",
      "Strange combination of axes in affine for image_file: brains\\AD\\011_S_0183_FreeSurfer_Cross-Sectional_Processing_brainmask_2007-04-03_12_42_38.0_S29327_mri_brainmask.nii\n",
      "Strange combination of axes in affine for image_file: brains\\AD\\011_S_0183_FreeSurfer_Cross-Sectional_Processing_brainmask_2008-04-09_12_54_26.0_S48734_mri_brainmask.nii\n",
      "Strange combination of axes in affine for image_file: brains\\AD\\012_S_0689_FreeSurfer_Cross-Sectional_Processing_brainmask_2008-07-15_11_31_26.0_S53494_mri_brainmask.nii\n",
      "Strange combination of axes in affine for image_file: brains\\AD\\012_S_0720_FreeSurfer_Cross-Sectional_Processing_brainmask_2007-08-21_10_35_07.0_S38152_mri_brainmask.nii\n",
      "Strange combination of axes in affine for image_file: brains\\AD\\012_S_0803_FreeSurfer_Cross-Sectional_Processing_brainmask_2007-04-04_12_28_38.0_S29335_mri_brainmask.nii\n",
      "Strange combination of axes in affine for image_file: brains\\AD\\012_S_0803_FreeSurfer_Cross-Sectional_Processing_brainmask_2007-10-09_09_28_01.0_S42025_mri_brainmask.nii\n",
      "Strange combination of axes in affine for image_file: brains\\AD\\013_S_0996_FreeSurfer_Cross-Sectional_Processing_brainmask_2008-11-17_13_37_17.0_S60124_mri_brainmask.nii\n",
      "Strange combination of axes in affine for image_file: brains\\AD\\_126_S_0891_FreeSurfer_Cross-Sectional_Processing_brainmask_2006-09-25_10_08_24.0_S19386_mri_brainmask.nii\n",
      "Strange combination of axes in affine for image_file: brains\\AD\\_128_S_1430_FreeSurfer_Cross-Sectional_Processing_brainmask_2008-04-04_10_33_56.0_S47983_mri_brainmask.nii\n",
      "Strange combination of axes in affine for image_file: brains\\NC\\ADNI_010_S_0067_FreeSurfer_Cross-Sectional_Processing_brainmask_2005-11-30_15_18_13.0_S10344_mri_brainmask.nii\n",
      "Strange combination of axes in affine for image_file: brains\\NC\\ADNI_010_S_0067_FreeSurfer_Cross-Sectional_Processing_brainmask_2006-08-14_10_51_07.0_S17808_mri_brainmask.nii\n",
      "Strange combination of axes in affine for image_file: brains\\NC\\ADNI_010_S_0067_FreeSurfer_Cross-Sectional_Processing_brainmask_2007-01-22_09_20_29.0_S25341_mri_brainmask.nii\n",
      "Strange combination of axes in affine for image_file: brains\\NC\\ADNI_010_S_0067_FreeSurfer_Cross-Sectional_Processing_brainmask_2008-01-28_14_52_58.0_S45044_mri_brainmask.nii\n",
      "Strange combination of axes in affine for image_file: brains\\NC\\ADNI_010_S_0419_FreeSurfer_Cross-Sectional_Processing_brainmask_2006-05-16_14_41_33.0_S14544_mri_brainmask.nii\n",
      "Strange combination of axes in affine for image_file: brains\\NC\\ADNI_010_S_0419_FreeSurfer_Cross-Sectional_Processing_brainmask_2006-12-15_10_15_40.0_S24112_mri_brainmask.nii\n",
      "Strange combination of axes in affine for image_file: brains\\NC\\ADNI_010_S_0419_FreeSurfer_Cross-Sectional_Processing_brainmask_2007-06-27_12_33_39.0_S34079_mri_brainmask.nii\n",
      "Strange combination of axes in affine for image_file: brains\\NC\\ADNI_010_S_0419_FreeSurfer_Cross-Sectional_Processing_brainmask_2008-06-20_13_46_10.0_S52045_mri_brainmask.nii\n",
      "Strange combination of axes in affine for image_file: brains\\NC\\ADNI_010_S_0419_FreeSurfer_Cross-Sectional_Processing_brainmask_2010-06-30_14_33_03.0_S89049_mri_brainmask.nii\n",
      "Strange combination of axes in affine for image_file: brains\\NC\\ADNI_010_S_0420_FreeSurfer_Cross-Sectional_Processing_brainmask_2006-06-15_15_41_24.0_S15582_mri_brainmask.nii\n",
      "Strange combination of axes in affine for image_file: brains\\NC\\ADNI_010_S_0420_FreeSurfer_Cross-Sectional_Processing_brainmask_2007-03-13_14_25_56.0_S28086_mri_brainmask.nii\n",
      "Strange combination of axes in affine for image_file: brains\\NC\\ADNI_010_S_0420_FreeSurfer_Cross-Sectional_Processing_brainmask_2008-09-18_14_42_27.0_S56596_mri_brainmask.nii\n",
      "Strange combination of axes in affine for image_file: brains\\NC\\ADNI_010_S_0420_FreeSurfer_Cross-Sectional_Processing_brainmask_2009-08-25_14_45_44.0_S73338_mri_brainmask.nii\n",
      "Strange combination of axes in affine for image_file: brains\\NC\\ADNI_010_S_0472_FreeSurfer_Cross-Sectional_Processing_brainmask_2006-11-22_11_30_27.0_S22912_mri_brainmask.nii\n",
      "Strange combination of axes in affine for image_file: brains\\NC\\ADNI_010_S_0472_FreeSurfer_Cross-Sectional_Processing_brainmask_2007-05-18_14_17_14.0_S32479_mri_brainmask.nii\n",
      "Strange combination of axes in affine for image_file: brains\\NC\\ADNI_010_S_0472_FreeSurfer_Cross-Sectional_Processing_brainmask_2007-11-16_10_31_49.0_S42849_mri_brainmask.nii\n",
      "Strange combination of axes in affine for image_file: brains\\NC\\ADNI_010_S_0472_FreeSurfer_Cross-Sectional_Processing_brainmask_2008-11-25_11_26_26.0_S60299_mri_brainmask.nii\n",
      "Strange combination of axes in affine for image_file: brains\\NC\\ADNI_012_S_0637_FreeSurfer_Cross-Sectional_Processing_brainmask_2009-08-27_15_26_38.0_S73344_mri_brainmask.nii\n",
      "Strange combination of axes in affine for image_file: brains\\NC\\ADNI_012_S_1009_FreeSurfer_Cross-Sectional_Processing_brainmask_2007-11-27_10_13_11.0_S43083_mri_brainmask.nii\n",
      "Strange combination of axes in affine for image_file: brains\\NC\\ADNI_012_S_1009_FreeSurfer_Cross-Sectional_Processing_brainmask_2008-12-16_06_42_02.0_S60994_mri_brainmask.nii\n",
      "Strange combination of axes in affine for image_file: brains\\NC\\ADNI_012_S_1133_FreeSurfer_Cross-Sectional_Processing_brainmask_2007-01-12_11_21_49.0_S25016_mri_brainmask.nii\n",
      "Strange combination of axes in affine for image_file: brains\\NC\\ADNI_012_S_1133_FreeSurfer_Cross-Sectional_Processing_brainmask_2009-02-02_15_06_21.0_S62583_mri_brainmask.nii\n",
      "Strange combination of axes in affine for image_file: brains\\NC\\ADNI_012_S_1133_FreeSurfer_Cross-Sectional_Processing_brainmask_2010-02-08_16_38_03.0_S84880_mri_brainmask.nii\n",
      "Strange combination of axes in affine for image_file: brains\\NC\\ADNI_013_S_0575_FreeSurfer_Cross-Sectional_Processing_brainmask_2006-08-14_15_09_37.0_S17859_mri_brainmask.nii\n",
      "Strange combination of axes in affine for image_file: brains\\NC\\ADNI_013_S_1035_FreeSurfer_Cross-Sectional_Processing_brainmask_2007-11-13_14_58_10.0_S42697_mri_brainmask.nii\n",
      "Strange combination of axes in affine for image_file: brains\\NC\\ADNI_014_S_0519_FreeSurfer_Cross-Sectional_Processing_brainmask_2006-05-12_12_46_41.0_S14488_mri_brainmask.nii\n",
      "Strange combination of axes in affine for image_file: brains\\NC\\ADNI_014_S_0519_FreeSurfer_Cross-Sectional_Processing_brainmask_2008-06-26_12_05_19.0_S52572_mri_brainmask.nii\n",
      "Strange combination of axes in affine for image_file: brains\\NC\\ADNI_014_S_0520_FreeSurfer_Cross-Sectional_Processing_brainmask_2009-08-17_12_57_16.0_S72510_mri_brainmask.nii\n",
      "Strange combination of axes in affine for image_file: brains\\NC\\ADNI_014_S_0548_FreeSurfer_Cross-Sectional_Processing_brainmask_2006-05-25_10_20_48.0_S14921_mri_brainmask.nii\n",
      "Strange combination of axes in affine for image_file: brains\\NC\\ADNI_014_S_0548_FreeSurfer_Cross-Sectional_Processing_brainmask_2009-07-16_13_54_29.0_S70313_mri_brainmask.nii\n",
      "Strange combination of axes in affine for image_file: brains\\NC\\ADNI_014_S_0558_FreeSurfer_Cross-Sectional_Processing_brainmask_2006-06-21_08_34_40.0_S15789_mri_brainmask.nii\n",
      "Strange combination of axes in affine for image_file: brains\\NC\\ADNI_018_S_0369_FreeSurfer_Cross-Sectional_Processing_brainmask_2009-07-16_15_45_46.0_S70301_mri_brainmask.nii\n"
     ]
    }
   ],
   "source": [
    "# loop over all images\n",
    "for brain in brains:\n",
    "    img = nib.load(brain)\n",
    "    # get affine of the image\n",
    "    affine = img.affine\n",
    "    # ignore values smaller than 1E-8, by replacing them with 0\n",
    "    affine[abs(affine)<1E-8]=0\n",
    "    # Check if the affine uses a combination of the 3 axes\n",
    "    # by countint the non-zero element in the 3x3 part of the affine matrix\n",
    "    if np.count_nonzero(affine[:3,:3])!=3:\n",
    "        print(\"Strange combination of axes in affine for image_file: \"+brain)\n",
    "    "
   ]
  },
  {
   "cell_type": "code",
   "execution_count": 60,
   "metadata": {},
   "outputs": [],
   "source": [
    "img = nib.load(\"brains/AD/002_S_0938_FreeSurfer_Cross-Sectional_Processing_brainmask_2008-10-31_07_15_51.0_S58211_mri_brainmask.nii\")\n",
    "# get affine of the image\n",
    "affine = img.affine\n",
    "affine[abs(affine)<1E-8]=0"
   ]
  },
  {
   "cell_type": "code",
   "execution_count": 61,
   "metadata": {},
   "outputs": [
    {
     "data": {
      "text/plain": [
       "array([[-1.25454545,  0.        ,  0.        ],\n",
       "       [ 0.        ,  0.        ,  1.4454546 ],\n",
       "       [ 0.        , -1.27272725,  0.        ]])"
      ]
     },
     "execution_count": 61,
     "metadata": {},
     "output_type": "execute_result"
    }
   ],
   "source": [
    "affine[:3,:3]"
   ]
  },
  {
   "cell_type": "code",
   "execution_count": null,
   "metadata": {},
   "outputs": [],
   "source": []
  }
 ],
 "metadata": {
  "kernelspec": {
   "display_name": "Python 3",
   "language": "python",
   "name": "python3"
  },
  "language_info": {
   "codemirror_mode": {
    "name": "ipython",
    "version": 3
   },
   "file_extension": ".py",
   "mimetype": "text/x-python",
   "name": "python",
   "nbconvert_exporter": "python",
   "pygments_lexer": "ipython3",
   "version": "3.7.6"
  }
 },
 "nbformat": 4,
 "nbformat_minor": 4
}

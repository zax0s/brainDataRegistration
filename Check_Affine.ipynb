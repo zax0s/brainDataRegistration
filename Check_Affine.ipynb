{
 "cells": [
  {
   "cell_type": "code",
   "execution_count": 1,
   "metadata": {},
   "outputs": [],
   "source": [
    "import nibabel as nib\n",
    "import numpy as np\n",
    "import os\n",
    "import glob\n",
    "from tqdm import tqdm"
   ]
  },
  {
   "cell_type": "code",
   "execution_count": 2,
   "metadata": {},
   "outputs": [],
   "source": [
    "# Get a list of all nifti images in the data folder\n",
    "brains=glob.glob('val/**/*.nii')"
   ]
  },
  {
   "cell_type": "markdown",
   "metadata": {},
   "source": [
    "## Check affine on all files"
   ]
  },
  {
   "cell_type": "code",
   "execution_count": 3,
   "metadata": {},
   "outputs": [
    {
     "name": "stderr",
     "output_type": "stream",
     "text": [
      "100%|█████████████████████████████████████████████████████████████████████████████████████████████████████████████████████████████████████████████████████████████| 200/200 [00:00<00:00, 1311.47it/s]\n"
     ]
    }
   ],
   "source": [
    "# loop over all images\n",
    "for brain in tqdm(brains):\n",
    "    img = nib.load(brain)\n",
    "    # get affine of the image\n",
    "    affine = img.affine\n",
    "    # ignore values smaller than 1E-6, by replacing them with 0\n",
    "    affine[abs(affine)<1E-6]=0\n",
    "    # Check if the affine uses a combination of the 3 axes\n",
    "    # by countint the non-zero element in the 3x3 part of the affine matrix\n",
    "    if np.count_nonzero(affine[:3,:3])!=3:\n",
    "        print(\"Strange combination of axes in affine for image_file: \"+brain)\n",
    "    "
   ]
  },
  {
   "cell_type": "markdown",
   "metadata": {},
   "source": [
    "## Code to addapt the origin !?"
   ]
  },
  {
   "cell_type": "code",
   "execution_count": 4,
   "metadata": {},
   "outputs": [
    {
     "name": "stderr",
     "output_type": "stream",
     "text": [
      "100%|███████████████████████████████████████████████████████████████████████████████████████████████████████████████████████████████████████████████████████████████| 200/200 [00:02<00:00, 82.80it/s]\n"
     ]
    }
   ],
   "source": [
    "for brain in tqdm(brains):\n",
    "    img = nib.load(brain)\n",
    "    \n",
    "    # get affine of the image\n",
    "    affine = img.affine\n",
    "    \n",
    "    # ignore values smaller than 1E-6, by replacing them with 0\n",
    "    # copy affine to a working copy\n",
    "    affine_to_work=affine\n",
    "    affine_to_work[abs(affine)<1E-6]=0\n",
    "    \n",
    "    # Get the voxel size\n",
    "    vox=np.sqrt(np.sum(affine_to_work[:3,:3]**2))\n",
    "    \n",
    "    # Get the image header\n",
    "    header=img.header\n",
    "    # Get dimensions of the image\n",
    "    shape=np.array(header.get_data_shape())\n",
    "    \n",
    "    # Create offset to the centre of the image\n",
    "    off = np.sum(affine_to_work[:3,:3],axis=1)*(shape/2)*-1\n",
    "    \n",
    "    # Set the new offset on the original affine\n",
    "    affine[:3,3]=off\n",
    "    # Set the new affine with the updated origin \n",
    "    img.set_sform(affine)\n",
    "    \n",
    "    # Save image file with new affine\n",
    "    img.to_filename(brain.replace('brainmask.nii','brainmask_newOrig.nii'))"
   ]
  },
  {
   "cell_type": "code",
   "execution_count": null,
   "metadata": {},
   "outputs": [],
   "source": []
  },
  {
   "cell_type": "code",
   "execution_count": null,
   "metadata": {},
   "outputs": [],
   "source": []
  }
 ],
 "metadata": {
  "kernelspec": {
   "display_name": "Python 3",
   "language": "python",
   "name": "python3"
  },
  "language_info": {
   "codemirror_mode": {
    "name": "ipython",
    "version": 3
   },
   "file_extension": ".py",
   "mimetype": "text/x-python",
   "name": "python",
   "nbconvert_exporter": "python",
   "pygments_lexer": "ipython3",
   "version": "3.7.6"
  }
 },
 "nbformat": 4,
 "nbformat_minor": 4
}

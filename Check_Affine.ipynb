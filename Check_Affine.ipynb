{
 "cells": [
  {
   "cell_type": "code",
   "execution_count": 74,
   "metadata": {},
   "outputs": [],
   "source": [
    "import nibabel as nib\n",
    "import numpy as np\n",
    "import os\n",
    "import glob\n",
    "from tqdm import tqdm"
   ]
  },
  {
   "cell_type": "code",
   "execution_count": 2,
   "metadata": {},
   "outputs": [],
   "source": [
    "# Get a list of all nifti images in the data folder\n",
    "brains=glob.glob('brains/**/*.nii')"
   ]
  },
  {
   "cell_type": "code",
   "execution_count": 3,
   "metadata": {},
   "outputs": [],
   "source": [
    "# loop over all images\n",
    "for brain in brains:\n",
    "    img = nib.load(brain)\n",
    "    # get affine of the image\n",
    "    affine = img.affine\n",
    "    # ignore values smaller than 1E-6, by replacing them with 0\n",
    "    affine[abs(affine)<1E-6]=0\n",
    "    # Check if the affine uses a combination of the 3 axes\n",
    "    # by countint the non-zero element in the 3x3 part of the affine matrix\n",
    "    if np.count_nonzero(affine[:3,:3])!=3:\n",
    "        print(\"Strange combination of axes in affine for image_file: \"+brain)\n",
    "    "
   ]
  },
  {
   "cell_type": "markdown",
   "metadata": {},
   "source": [
    "## Code to addapt the origin !?"
   ]
  },
  {
   "cell_type": "code",
   "execution_count": 82,
   "metadata": {},
   "outputs": [],
   "source": [
    "for brain in brains:\n",
    "    img = nib.load(brain)\n",
    "    # get affine of the image\n",
    "    affine = img.affine\n",
    "    # ignore values smaller than 1E-6, by replacing them with 0\n",
    "    affine_to_work=affine\n",
    "    affine_to_work[abs(affine)<1E-6]=0\n",
    "    vox=np.sqrt(np.sum(affine_to_work[:3,:3]**2))\n",
    "    header=img.header\n",
    "    shape=np.array(header.get_data_shape())\n",
    "    off = np.sum(affine_to_work[:3,:3],axis=1)*(shape/2)*-1\n",
    "    affine[:3,3]=off\n",
    "    img.set_sform(affine)\n",
    "    img.to_filename(brain.replace('brainmask.nii','brainmask_newOrig.nii'))"
   ]
  },
  {
   "cell_type": "code",
   "execution_count": 38,
   "metadata": {},
   "outputs": [
    {
     "data": {
      "text/plain": [
       "55.0"
      ]
     },
     "execution_count": 38,
     "metadata": {},
     "output_type": "execute_result"
    }
   ],
   "source": []
  },
  {
   "cell_type": "code",
   "execution_count": null,
   "metadata": {},
   "outputs": [],
   "source": []
  }
 ],
 "metadata": {
  "kernelspec": {
   "display_name": "Python 3",
   "language": "python",
   "name": "python3"
  },
  "language_info": {
   "codemirror_mode": {
    "name": "ipython",
    "version": 3
   },
   "file_extension": ".py",
   "mimetype": "text/x-python",
   "name": "python",
   "nbconvert_exporter": "python",
   "pygments_lexer": "ipython3",
   "version": "3.7.6"
  }
 },
 "nbformat": 4,
 "nbformat_minor": 4
}
